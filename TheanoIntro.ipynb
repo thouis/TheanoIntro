{
 "metadata": {
  "name": "",
  "signature": "sha256:51b302457f2869a68ff9023199cc21fee34eea9f6a242b2cafb2524668c6c7a6"
 },
 "nbformat": 3,
 "nbformat_minor": 0,
 "worksheets": [
  {
   "cells": [
    {
     "cell_type": "markdown",
     "metadata": {},
     "source": [
      "# Get a copy of the notebook\n",
      "\n",
      "We will make use of the resources in the Theano deep learning tutorial. We have it integrated into this git repository as a submodule. You can clone the git repository by doing the following steps:\n",
      "\n",
      "`git clone --recursive https://github.com/thouis/TheanoIntro.git`\n",
      "\n",
      "If you already cloned the repository, but the `DeepLearningTutorial` folder is empty, you need to checkout the submodule. Make sure you are in the folder `TheanoIntro` and then execute the following command:\n",
      "\n",
      "`git submodule update --init --recursive`\n",
      "\n",
      "Now we have to add this directory to the PythonPath. Depending on the location of your git repository you might have to change this path."
     ]
    },
    {
     "cell_type": "code",
     "collapsed": false,
     "input": [
      "import sys\n",
      "sys.path.insert(1,'./DeepLearningTutorials/code')"
     ],
     "language": "python",
     "metadata": {},
     "outputs": [],
     "prompt_number": 1
    },
    {
     "cell_type": "markdown",
     "metadata": {},
     "source": [
      "# Set up the iPython environment"
     ]
    },
    {
     "cell_type": "code",
     "collapsed": false,
     "input": [
      "%matplotlib inline\n",
      "\n",
      "import os\n",
      "import time\n",
      "\n",
      "import matplotlib\n",
      "import matplotlib.pyplot as plt\n",
      "plt.gray()\n",
      "from pylab import rcParams\n",
      "rcParams['figure.figsize'] = 10, 10\n",
      "\n",
      "import numpy as np\n",
      "\n",
      "# usually, we'd use environment variables at python startup to control whether THEANO uses the CPU or GPU,\n",
      "# but this also works.\n",
      "os.environ['THEANO_FLAGS'] = 'mode=FAST_RUN,device=cpu,floatX=float32'\n",
      "# for GPU:\n",
      "# os.environ['THEANO_FLAGS'] = 'mode=FAST_RUN,device=gpu,floatX=float32'\n",
      "\n",
      "import theano\n",
      "import theano.tensor as T\n",
      "rng = np.random.RandomState(42)\n",
      "\n",
      "def rand_uniform(i, j):\n",
      "    return np.asarray(rng.uniform(low=-np.sqrt(6. / (i + j)),\n",
      "                                  high=np.sqrt(6. / (i + j)),\n",
      "                                  size=(i, j)),\n",
      "                      dtype=theano.config.floatX);  # note that this is float32 based on the settings above"
     ],
     "language": "python",
     "metadata": {},
     "outputs": [
      {
       "metadata": {},
       "output_type": "display_data",
       "text": [
        "<matplotlib.figure.Figure at 0x10cc40e90>"
       ]
      }
     ],
     "prompt_number": 2
    },
    {
     "cell_type": "markdown",
     "metadata": {},
     "source": [
      "# Grab MNIST data\n",
      "\n",
      "If you get an error in load_data (or can't import it it), go back to the first commands about git, submodules, and sys.path."
     ]
    },
    {
     "cell_type": "code",
     "collapsed": false,
     "input": [
      "from logistic_sgd import load_data\n",
      "\n",
      "## If not already cached this function actually downloads the data\n",
      "datasets = load_data('mnist.pkl.gz')\n",
      "\n",
      "train_set_x, train_set_y = datasets[0]\n",
      "valid_set_x, valid_set_y = datasets[1]\n",
      "test_set_x, test_set_y = datasets[2]\n",
      "\n",
      "print(\"{} training, {} validation, & {} test.\".format(train_set_y.shape[0].eval(), valid_set_y.shape[0].eval(), test_set_y.shape[0].eval()))\n",
      "print(\"Individual examples are {} dimensional.\".format(train_set_x.shape[1].eval()))"
     ],
     "language": "python",
     "metadata": {},
     "outputs": [
      {
       "output_type": "stream",
       "stream": "stdout",
       "text": [
        "... loading data\n",
        "50000 training, 10000 validation, & 10000 test."
       ]
      },
      {
       "output_type": "stream",
       "stream": "stdout",
       "text": [
        "\n",
        "Individual examples are 784 dimensional.\n"
       ]
      }
     ],
     "prompt_number": 3
    },
    {
     "cell_type": "markdown",
     "metadata": {},
     "source": [
      "# Visualize some of the data\n",
      "\n",
      "The calls to train_set_y.eval() and train_set_x.eval() are Theano-isms.  load_data() stored the datasets in Theano shared variables.\n",
      "\n",
      "Shared variables are how Theano represents data that may be needed on the CPU or GPU.  Updates to either (if done via Theano's mechanisms) will be propagated to the other copy.  (In fact, the _y_ variables are Theano expressions, for reasons of GPU-compatibility, but this isn't relevant right now.)"
     ]
    },
    {
     "cell_type": "code",
     "collapsed": false,
     "input": [
      "from utils import tile_raster_images\n",
      "\n",
      "print(\"Labels: {}\".format(train_set_y.eval()[:30]))\n",
      "samples = tile_raster_images(train_set_x.eval(), img_shape=(28,28), \n",
      "                             tile_shape=(3,10))\n",
      "\n",
      "plt.imshow(samples)"
     ],
     "language": "python",
     "metadata": {},
     "outputs": [
      {
       "output_type": "stream",
       "stream": "stdout",
       "text": [
        "Labels: [5 0 4 1 9 2 1 3 1 4 3 5 3 6 1 7 2 8 6 9 4 0 9 1 1 2 4 3 2 7]\n"
       ]
      },
      {
       "metadata": {},
       "output_type": "pyout",
       "prompt_number": 4,
       "text": [
        "<matplotlib.image.AxesImage at 0x11491fb50>"
       ]
      },
      {
       "metadata": {},
       "output_type": "display_data",
       "png": "[encoded data removed]",
       "text": [
        "<matplotlib.figure.Figure at 0x10b2cbfd0>"
       ]
      }
     ],
     "prompt_number": 4
    },
    {
     "cell_type": "markdown",
     "metadata": {},
     "source": [
      "# Build a simple classifier\n",
      "\n",
      "Let's build a very simple classifier: Three fully connected ReLU units of 1000 units each, and one Logistic Regression to digit labels.\n",
      "\n",
      "### Key Theano Point: Theano Expressions and T.fun() vs. np.fun()\n",
      "We build up the classifier as Theano Expression (i.e., a computational graph) of symbolic and shared variables.  Later, when we train, the symbolic variables will be given values from the training or validation set.\n",
      "\n",
      "Note that the steps in the expressions look very similar to what Numpy-based code would look like, but with T.fun() in place of np.fun().  Note also that we can use vectorized expressions (as in the relu() function below), transparently."
     ]
    },
    {
     "cell_type": "code",
     "collapsed": false,
     "input": [
      "# Step 1. Declare Theano variables\n",
      "\n",
      "# These will be the inputs to the computation\n",
      "x = T.fmatrix()\n",
      "y = T.ivector()\n",
      "\n",
      "# Parameters to be learned\n",
      "\n",
      "# First layer\n",
      "W0 = theano.shared(value=rand_uniform(28 * 28, 1000),\n",
      "                   name='W0', borrow=True)  # borrow lets Theano reuse the numpy memory\n",
      "b0 = theano.shared(value=np.zeros((1000,), dtype=theano.config.floatX),\n",
      "                   name='b0', borrow=True)\n",
      "\n",
      "# Second layer\n",
      "W1 = theano.shared(value=rand_uniform(1000, 1000),\n",
      "                   name='W1', borrow=True)  # borrow lets Theano reuse the numpy memory\n",
      "b1 = theano.shared(value=np.zeros((1000,), dtype=theano.config.floatX),\n",
      "                   name='b1', borrow=True)\n",
      "\n",
      "# Third layer\n",
      "W2 = theano.shared(value=rand_uniform(1000, 1000),\n",
      "                   name='W2', borrow=True)  # borrow lets Theano reuse the numpy memory\n",
      "b2 = theano.shared(value=np.zeros((1000,), dtype=theano.config.floatX),\n",
      "                   name='b2', borrow=True)\n",
      "\n",
      "# LogReg layer\n",
      "WLR = theano.shared(value=rand_uniform(1000, 10),\n",
      "                   name='WLR', borrow=True)  # borrow lets Theano reuse the numpy memory\n",
      "bLR = theano.shared(value=np.zeros((10,), dtype=theano.config.floatX),\n",
      "                   name='bLR', borrow=True)\n",
      "\n",
      "\n",
      "# helper function\n",
      "relu = lambda x: x * (x > 0)\n",
      "\n",
      "# The expression / computational graph for the classifier\n",
      "x1 = relu(T.dot(x, W0) + b0)\n",
      "x2 = relu(T.dot(x1, W1) + b1)\n",
      "x3 = relu(T.dot(x2, W2) + b2)\n",
      "\n",
      "p_y_given_x = T.nnet.softmax(T.dot(x3, WLR) + bLR)\n",
      "y_pred = T.argmax(p_y_given_x, axis=1)"
     ],
     "language": "python",
     "metadata": {},
     "outputs": [],
     "prompt_number": 5
    },
    {
     "cell_type": "markdown",
     "metadata": {},
     "source": [
      "<br><br>\n",
      "We'll add a negative log-likelihood cost and error expression, as well."
     ]
    },
    {
     "cell_type": "code",
     "collapsed": false,
     "input": [
      "cost = -T.mean(T.log(p_y_given_x)[T.arange(y.shape[0]), y])\n",
      "error = T.mean(T.neq(y_pred, y))"
     ],
     "language": "python",
     "metadata": {},
     "outputs": [],
     "prompt_number": 6
    },
    {
     "cell_type": "markdown",
     "metadata": {},
     "source": [
      "### Key Theano Point: Automatic differentiation\n",
      "\n",
      "Theano can automatically compute the derivatives of our cost function w.r.t. the parameters of our network."
     ]
    },
    {
     "cell_type": "code",
     "collapsed": false,
     "input": [
      "parameters = [W0, b0, W1, b1, W2, b2, WLR, bLR]\n",
      "grads = T.grad(cost, wrt=parameters)"
     ],
     "language": "python",
     "metadata": {},
     "outputs": [],
     "prompt_number": 7
    },
    {
     "cell_type": "markdown",
     "metadata": {},
     "source": [
      "### Key Theano Point: Python functions from Theano Expressions\n",
      "\n",
      "Computational graphs can be compiled into a form that can be called from python with actual values using theano.function().  We can also pass a list of tuples in the **updates** parameter to automatically update some values.  In this case, we set up a simple gradient-descent algorithm built into the train function."
     ]
    },
    {
     "cell_type": "code",
     "collapsed": false,
     "input": [
      "learning_rate = T.scalar()\n",
      "updates = [(p, (p - g * learning_rate)) for p, g in zip(parameters, grads)]\n",
      "\n",
      "train = theano.function(inputs=[x, y, learning_rate],\n",
      "                        outputs=cost,\n",
      "                        updates=updates)\n",
      "\n",
      "validate = theano.function(inputs=[x, y], outputs=error)\n",
      "\n",
      "g = theano.function(inputs=[x, y], outputs=grads)"
     ],
     "language": "python",
     "metadata": {},
     "outputs": [],
     "prompt_number": 8
    },
    {
     "cell_type": "code",
     "collapsed": false,
     "input": [
      "# reset the network\n",
      "for W in [W0, W1, W2, WLR]:\n",
      "    i, j = W.shape.eval()\n",
      "    W.set_value(rand_uniform(i, j))\n",
      "for b in [b0, b1, b2, bLR]:\n",
      "    b.set_value((0 * b).eval())\n",
      "\n",
      "n_epochs = 20\n",
      "\n",
      "train_monitor = []\n",
      "val_monitor = []\n",
      "\n",
      "train_monitor.append(validate(train_set_x.eval(), train_set_y.eval()))\n",
      "val_monitor.append(validate(valid_set_x.eval(), valid_set_y.eval()))\n",
      "print(\"Starting validation error {}\".format(val_monitor[-1]))\n",
      "\n",
      "start_time = time.clock()\n",
      "for epoch in range(n_epochs):\n",
      "    loss = train(train_set_x.eval(), train_set_y.eval(), 0.01)\n",
      "    train_monitor.append(validate(train_set_x.eval(), train_set_y.eval()))\n",
      "    val_monitor.append(validate(valid_set_x.eval(), valid_set_y.eval()))\n",
      "    print(\"Iteration {}, Training error: {} validation error: {}  loss: {}\".format(epoch, train_monitor[-1], val_monitor[-1], loss))\n",
      "end_time = time.clock()    \n",
      "print 'The code ran for %f seconds' % ((end_time - start_time))\n",
      "plt.plot(train_monitor, 'k-', label='training error')\n",
      "plt.plot(val_monitor, 'b-', label='validation error')\n",
      "plt.legend();"
     ],
     "language": "python",
     "metadata": {},
     "outputs": [
      {
       "output_type": "stream",
       "stream": "stdout",
       "text": [
        "Starting validation error 0.888\n",
        "Iteration 0, Training error: 0.88242 validation error: 0.8786  loss: 2.31333661079"
       ]
      },
      {
       "output_type": "stream",
       "stream": "stdout",
       "text": [
        "\n",
        "Iteration 1, Training error: 0.8742 validation error: 0.87  loss: 2.30782914162"
       ]
      },
      {
       "output_type": "stream",
       "stream": "stdout",
       "text": [
        "\n",
        "Iteration 2, Training error: 0.86462 validation error: 0.8608  loss: 2.30237650871"
       ]
      },
      {
       "output_type": "stream",
       "stream": "stdout",
       "text": [
        "\n",
        "Iteration 3, Training error: 0.85362 validation error: 0.851  loss: 2.29697227478"
       ]
      },
      {
       "output_type": "stream",
       "stream": "stdout",
       "text": [
        "\n",
        "Iteration 4, Training error: 0.84258 validation error: 0.8388  loss: 2.29161214828"
       ]
      },
      {
       "output_type": "stream",
       "stream": "stdout",
       "text": [
        "\n",
        "Iteration 5, Training error: 0.8307 validation error: 0.8253  loss: 2.28629183769"
       ]
      },
      {
       "output_type": "stream",
       "stream": "stdout",
       "text": [
        "\n",
        "Iteration 6, Training error: 0.81806 validation error: 0.8125  loss: 2.28100824356"
       ]
      },
      {
       "output_type": "stream",
       "stream": "stdout",
       "text": [
        "\n",
        "Iteration 7, Training error: 0.80554 validation error: 0.7958  loss: 2.27575945854"
       ]
      },
      {
       "output_type": "stream",
       "stream": "stdout",
       "text": [
        "\n",
        "Iteration 8, Training error: 0.79274 validation error: 0.783  loss: 2.27054095268"
       ]
      },
      {
       "output_type": "stream",
       "stream": "stdout",
       "text": [
        "\n",
        "Iteration 9, Training error: 0.7796 validation error: 0.7676  loss: 2.2653491497"
       ]
      },
      {
       "output_type": "stream",
       "stream": "stdout",
       "text": [
        "\n",
        "Iteration 10, Training error: 0.76562 validation error: 0.753  loss: 2.26018238068"
       ]
      },
      {
       "output_type": "stream",
       "stream": "stdout",
       "text": [
        "\n",
        "Iteration 11, Training error: 0.75142 validation error: 0.7395  loss: 2.2550368309"
       ]
      },
      {
       "output_type": "stream",
       "stream": "stdout",
       "text": [
        "\n",
        "Iteration 12, Training error: 0.73702 validation error: 0.7276  loss: 2.24991035461"
       ]
      },
      {
       "output_type": "stream",
       "stream": "stdout",
       "text": [
        "\n",
        "Iteration 13, Training error: 0.72376 validation error: 0.7132  loss: 2.24480104446"
       ]
      },
      {
       "output_type": "stream",
       "stream": "stdout",
       "text": [
        "\n",
        "Iteration 14, Training error: 0.71076 validation error: 0.6979  loss: 2.23970770836"
       ]
      },
      {
       "output_type": "stream",
       "stream": "stdout",
       "text": [
        "\n",
        "Iteration 15, Training error: 0.698 validation error: 0.6853  loss: 2.23462677002"
       ]
      },
      {
       "output_type": "stream",
       "stream": "stdout",
       "text": [
        "\n",
        "Iteration 16, Training error: 0.68604 validation error: 0.6719  loss: 2.22955560684"
       ]
      },
      {
       "output_type": "stream",
       "stream": "stdout",
       "text": [
        "\n",
        "Iteration 17, Training error: 0.6738 validation error: 0.6611  loss: 2.22449350357"
       ]
      },
      {
       "output_type": "stream",
       "stream": "stdout",
       "text": [
        "\n",
        "Iteration 18, Training error: 0.6625 validation error: 0.6485  loss: 2.21943831444"
       ]
      },
      {
       "output_type": "stream",
       "stream": "stdout",
       "text": [
        "\n",
        "Iteration 19, Training error: 0.65182 validation error: 0.6362  loss: 2.21438789368"
       ]
      },
      {
       "output_type": "stream",
       "stream": "stdout",
       "text": [
        "\n",
        "The code ran for 1112.454768 seconds\n"
       ]
      },
      {
       "metadata": {},
       "output_type": "display_data",
       "png": "[encoded data removed]",
       "text": [
        "<matplotlib.figure.Figure at 0x11a1de890>"
       ]
      }
     ],
     "prompt_number": 9
    },
    {
     "cell_type": "markdown",
     "metadata": {},
     "source": [
      "# Minibatching\n",
      "### Key Theano Point: Indices (instead of arrays) & \"givens\"\n",
      "For large training sets, minibatching is often used.  To take advantage of the GPU, it's important to limit communication.  Sahred variables are already stored on the GPU, so we can pass indices to our training function for efficiency. We can do this via the **givens** keyword."
     ]
    },
    {
     "cell_type": "code",
     "collapsed": false,
     "input": [
      "idx_lo = T.iscalar() \n",
      "idx_hi = T.iscalar()\n",
      "\n",
      "train_batch = theano.function(inputs=[idx_lo, idx_hi, learning_rate],\n",
      "                              outputs=cost,\n",
      "                              updates=updates,\n",
      "                              givens={x : train_set_x[idx_lo:idx_hi],\n",
      "                                      y : train_set_y[idx_lo:idx_hi]})\n",
      "\n",
      "validate_given = theano.function(inputs=[],\n",
      "                                 outputs=error,\n",
      "                                 givens={x: valid_set_x, y: valid_set_y})"
     ],
     "language": "python",
     "metadata": {},
     "outputs": [],
     "prompt_number": 10
    },
    {
     "cell_type": "code",
     "collapsed": false,
     "input": [
      "# reset the network\n",
      "for W in [W0, W1, W2, WLR]:\n",
      "    i, j = W.shape.eval()\n",
      "    W.set_value(rand_uniform(i, j))\n",
      "for b in [b0, b1, b2, bLR]:\n",
      "    b.set_value((0 * b).eval())\n",
      "\n",
      "n_epochs = 20\n",
      "batch_size = 20\n",
      "\n",
      "start_time = time.clock()\n",
      "\n",
      "val_monitor_batch = [validate_given()]\n",
      "print(\"Starting validation error {}\".format(val_monitor_batch[-1]))\n",
      "      \n",
      "for epoch in range(n_epochs):\n",
      "    losses = []\n",
      "    for lo in range(0, train_set_x.shape[0].eval(), batch_size):\n",
      "        losses.append(train_batch(lo, lo + batch_size, 0.1))\n",
      "    val_monitor_batch.append(validate_given())\n",
      "    print(\"Iteration {}, validation error: {}, loss {}\".format(epoch, val_monitor_batch[-1], batch_size * np.mean(losses)))\n",
      "end_time = time.clock()    \n",
      "print 'The code ran for %f seconds' % ((end_time - start_time)) \n",
      "plt.plot(val_monitor[1:], 'b-', label='validation error')\n",
      "plt.plot(val_monitor_batch[1:], 'g-', label='validation error (batching)')\n",
      "plt.legend();"
     ],
     "language": "python",
     "metadata": {},
     "outputs": [
      {
       "output_type": "stream",
       "stream": "stdout",
       "text": [
        "Starting validation error 0.8891\n",
        "Iteration 0, validation error: 0.0366, loss 4.48832899332"
       ]
      },
      {
       "output_type": "stream",
       "stream": "stdout",
       "text": [
        "\n",
        "Iteration 1, validation error: 0.0328, loss 1.62181913853"
       ]
      },
      {
       "output_type": "stream",
       "stream": "stdout",
       "text": [
        "\n",
        "Iteration 2, validation error: 0.0278, loss 0.952867418528"
       ]
      },
      {
       "output_type": "stream",
       "stream": "stdout",
       "text": [
        "\n",
        "Iteration 3, validation error: 0.0251, loss 0.625433623791"
       ]
      },
      {
       "output_type": "stream",
       "stream": "stdout",
       "text": [
        "\n",
        "Iteration 4, validation error: 0.025, loss 0.462379045784"
       ]
      },
      {
       "output_type": "stream",
       "stream": "stdout",
       "text": [
        "\n",
        "Iteration 5, validation error: 0.0205, loss 0.41864272207"
       ]
      },
      {
       "output_type": "stream",
       "stream": "stdout",
       "text": [
        "\n",
        "Iteration 6, validation error: 0.0218, loss 0.281704310328"
       ]
      },
      {
       "output_type": "stream",
       "stream": "stdout",
       "text": [
        "\n",
        "Iteration 7, validation error: 0.0287, loss 0.28696520254"
       ]
      },
      {
       "output_type": "stream",
       "stream": "stdout",
       "text": [
        "\n",
        "Iteration 8, validation error: 0.0183, loss 0.231447182596"
       ]
      },
      {
       "output_type": "stream",
       "stream": "stdout",
       "text": [
        "\n",
        "Iteration 9, validation error: 0.0175, loss 0.234053079039"
       ]
      },
      {
       "output_type": "stream",
       "stream": "stdout",
       "text": [
        "\n",
        "Iteration 10, validation error: 0.0204, loss 0.146992839873"
       ]
      },
      {
       "output_type": "stream",
       "stream": "stdout",
       "text": [
        "\n",
        "Iteration 11, validation error: 0.0187, loss 0.0997219141573"
       ]
      },
      {
       "output_type": "stream",
       "stream": "stdout",
       "text": [
        "\n",
        "Iteration 12, validation error: 0.0186, loss 0.138187641278"
       ]
      },
      {
       "output_type": "stream",
       "stream": "stdout",
       "text": [
        "\n",
        "Iteration 13, validation error: 0.019, loss 0.0901468936354"
       ]
      },
      {
       "output_type": "stream",
       "stream": "stdout",
       "text": [
        "\n",
        "Iteration 14, validation error: 0.0205, loss 0.135865965858"
       ]
      },
      {
       "output_type": "stream",
       "stream": "stdout",
       "text": [
        "\n",
        "Iteration 15, validation error: 0.0169, loss 0.108099021018"
       ]
      },
      {
       "output_type": "stream",
       "stream": "stdout",
       "text": [
        "\n",
        "Iteration 16, validation error: 0.0178, loss 0.053030019626"
       ]
      },
      {
       "output_type": "stream",
       "stream": "stdout",
       "text": [
        "\n",
        "Iteration 17, validation error: 0.017, loss 0.0384002528153"
       ]
      },
      {
       "output_type": "stream",
       "stream": "stdout",
       "text": [
        "\n",
        "Iteration 18, validation error: 0.0165, loss 0.0558934640139"
       ]
      },
      {
       "output_type": "stream",
       "stream": "stdout",
       "text": [
        "\n",
        "Iteration 19, validation error: 0.0156, loss 0.0169362302404"
       ]
      },
      {
       "output_type": "stream",
       "stream": "stdout",
       "text": [
        "\n",
        "The code ran for 1425.020094 seconds\n"
       ]
      },
      {
       "metadata": {},
       "output_type": "display_data",
       "png": "[encoded data removed]",
       "text": [
        "<matplotlib.figure.Figure at 0x10fa716d0>"
       ]
      }
     ],
     "prompt_number": 11
    },
    {
     "cell_type": "markdown",
     "metadata": {},
     "source": [
      "# Regularization\n",
      "### Key Theano Point: Automatic differentiation gives the user expressive freedom\n",
      "\n",
      "Since Theano computes gradients automatically, we can add regularization fairly easily, even for fairly complicated regularizers."
     ]
    },
    {
     "cell_type": "code",
     "collapsed": false,
     "input": [
      "# Add L_half regularization to the intermediate\n",
      "Lhalf_weight = T.scalar()\n",
      "\n",
      "# Use the L_1/2 norm to encourage sparse intermediate values\n",
      "eps = 1e-5  # make sure gradient exists at 0\n",
      "half_norm = lambda x: T.sum(T.sqrt(abs(x) + eps), axis=1)**2\n",
      "\n",
      "cost_reg = -T.mean(T.log(p_y_given_x)[T.arange(y.shape[0]), y]) + (T.mean(half_norm(x2)) + T.mean(half_norm(x3))) * Lhalf_weight\n",
      "grads_reg = T.grad(cost_reg, wrt=parameters)\n",
      "updates_reg = [(p, (p - g * learning_rate)) for p, g in zip(parameters, grads_reg)]\n",
      "\n",
      "train_batch_reg = theano.function(inputs=[idx_lo, idx_hi, learning_rate, Lhalf_weight],\n",
      "                                  outputs=cost_reg,\n",
      "                                  updates=updates_reg,\n",
      "                                  givens={x : train_set_x[idx_lo:idx_hi],\n",
      "                                          y : train_set_y[idx_lo:idx_hi]})"
     ],
     "language": "python",
     "metadata": {},
     "outputs": []
    },
    {
     "cell_type": "code",
     "collapsed": false,
     "input": [
      "# reset the network\n",
      "for W in [W0, W1, W2, WLR]:\n",
      "    i, j = W.shape.eval()\n",
      "    W.set_value(rand_uniform(i, j))\n",
      "for b in [b0, b1, b2, bLR]:\n",
      "    b.set_value((0 * b).eval())\n",
      "\n",
      "n_epochs = 20\n",
      "batch_size = 20\n",
      "num_batches = train_set_x.shape[0].eval() / batch_size\n",
      "\n",
      "start_time = time.clock()\n",
      "val_monitor_batch_reg = [validate_given()]\n",
      "print(\"Starting validation error {}\".format(val_monitor_batch_reg[-1]))\n",
      "      \n",
      "for epoch in range(n_epochs):\n",
      "    losses = []\n",
      "    for lo in range(0, train_set_x.shape[0].eval(), batch_size):\n",
      "        # value of 0.000005 arrived at by trial-and-error: close to the largest value where learning is still possible.\n",
      "        losses.append(train_batch_reg(lo, lo + batch_size, 0.1, batch_size * 0.000005))\n",
      "    val_monitor_batch_reg.append(validate_given())\n",
      "    print(\"Iteration {}, validation error: {}, loss {}\".format(epoch, val_monitor_batch_reg[-1], batch_size * np.mean(losses)))\n",
      "end_time = time.clock()    \n",
      "print 'The code ran for %f seconds' % ((end_time - start_time))\n",
      "plt.plot(val_monitor_batch[1:], 'g-', label='validation error (batching)')\n",
      "plt.plot(val_monitor_batch_reg[1:], 'r-', label='validation error (batching, regularized)')\n",
      "plt.legend();"
     ],
     "language": "python",
     "metadata": {},
     "outputs": [
      {
       "output_type": "stream",
       "stream": "stdout",
       "text": [
        "Starting validation error 0.9647\n",
        "Iteration 0, validation error: 0.0621, loss 20.5994606018"
       ]
      },
      {
       "output_type": "stream",
       "stream": "stdout",
       "text": [
        "\n",
        "Iteration 1, validation error: 0.0388, loss 3.77131968737"
       ]
      },
      {
       "output_type": "stream",
       "stream": "stdout",
       "text": [
        "\n",
        "Iteration 2, validation error: 0.0387, loss 2.32944831252"
       ]
      }
     ]
    },
    {
     "cell_type": "code",
     "collapsed": false,
     "input": [
      "peek_x3 = theano.function(inputs=[idx_lo, idx_hi],\n",
      "                                  outputs=x3,\n",
      "                                  givens={x : train_set_x[idx_lo:idx_hi]})"
     ],
     "language": "python",
     "metadata": {},
     "outputs": []
    },
    {
     "cell_type": "code",
     "collapsed": false,
     "input": [
      "tmp = peek_x3(0, 20)\n",
      "plt.title('x3 activations')\n",
      "plt.plot(tmp.T);"
     ],
     "language": "python",
     "metadata": {},
     "outputs": []
    },
    {
     "cell_type": "code",
     "collapsed": false,
     "input": [
      "plt.matshow(W2.eval())\n",
      "plt.figure()\n",
      "plt.hist(W2.eval().ravel(), 100, log=True);"
     ],
     "language": "python",
     "metadata": {},
     "outputs": []
    }
   ],
   "metadata": {}
  }
 ]
}
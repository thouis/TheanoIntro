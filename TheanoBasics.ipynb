{
 "metadata": {
  "name": "",
  "signature": "sha256:bdffd6aa567d3baca3ee60039a4d7bf5c2620139a9099ed6bc4db22594a5b335"
 },
 "nbformat": 3,
 "nbformat_minor": 0,
 "worksheets": [
  {
   "cells": [
    {
     "cell_type": "code",
     "collapsed": false,
     "input": [
      "import theano\n",
      "import theano.tensor as T\n",
      "import numpy as np\n",
      "\n",
      "# symbolic variables\n",
      "a = T.scalar()\n",
      "x = T.col()\n",
      "\n",
      "# shared variables - hybrid symbolic/explicit variables\n",
      "# We can store vaues in them, though if we use them in an expression, the result will be symbolic.\n",
      "W = theano.shared(np.arange(9).reshape((3, 3)))\n",
      "count = theano.shared(0)\n",
      "\n",
      "print \"a: \", a\n",
      "print \"W: \", W\n",
      "print \"W * 2: \", W * 2"
     ],
     "language": "python",
     "metadata": {},
     "outputs": []
    },
    {
     "cell_type": "code",
     "collapsed": false,
     "input": [
      "# We can build a symbolic expression from shared and symbolic variables.\n",
      "# Note that math is numpy-like: dot() instead of *, broadcasting of scalars\n",
      "val = T.dot(W, x) + a * count\n",
      "\n",
      "print \"symbolic expression for val: \", val\n",
      "theano.pp(val)"
     ],
     "language": "python",
     "metadata": {},
     "outputs": []
    },
    {
     "cell_type": "code",
     "collapsed": false,
     "input": [
      "# to evaluate the result on actual values, we use theano.function().\n",
      "compute = theano.function(inputs=[a, x],\n",
      "                          outputs=val,\n",
      "                          allow_input_downcast=True)\n",
      "\n",
      "print compute(5, np.ones((3, 1)))"
     ],
     "language": "python",
     "metadata": {},
     "outputs": []
    },
    {
     "cell_type": "code",
     "collapsed": false,
     "input": [
      "# We can also create a function that updates shared variables each time it is called.\n",
      "# This is often used in optimization for efficient updates of parameters (especially\n",
      "# on the GPU, since updates don't require a round-trip to the CPU).\n",
      "update = theano.function(inputs=[a, x],\n",
      "                         outputs=val,\n",
      "                         updates={count: count + 1},\n",
      "                         allow_input_downcast=True)\n",
      "\n",
      "print \"first call: \", update(5, np.ones((3, 1))).T\n",
      "print \"next call: \", update(5, np.ones((3, 1))).T"
     ],
     "language": "python",
     "metadata": {},
     "outputs": []
    },
    {
     "cell_type": "code",
     "collapsed": false,
     "input": [
      "# We can get the value of a shared variable with eval() \n",
      "# (for expressions or shared variables) or get_value() (for shared variables)\n",
      "print \"count :\", count.get_value()"
     ],
     "language": "python",
     "metadata": {},
     "outputs": []
    },
    {
     "cell_type": "code",
     "collapsed": false,
     "input": [
      "# Theano variables can be sliced, much like numpy variables\n",
      "print W[:, 1]  # symbolic!\n",
      "print W[:, 1].eval()  # explicit"
     ],
     "language": "python",
     "metadata": {},
     "outputs": []
    },
    {
     "cell_type": "code",
     "collapsed": false,
     "input": [
      "# Theano's tensor module includes many drop-in replacements for numpy functions.\n",
      "print \"W mean\", T.mean(W).eval()\n",
      "print \"sqrt(count)\", T.sqrt(count).eval()"
     ],
     "language": "python",
     "metadata": {},
     "outputs": []
    }
   ],
   "metadata": {}
  }
 ]
}
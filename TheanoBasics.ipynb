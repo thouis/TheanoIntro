{
 "metadata": {
  "name": "",
  "signature": "sha256:59222b373022d0ea008921c8ff5a25e4cae87186707bcb8431bc8e4d3f9b9d94"
 },
 "nbformat": 3,
 "nbformat_minor": 0,
 "worksheets": [
  {
   "cells": [
    {
     "cell_type": "code",
     "collapsed": false,
     "input": [
      "import theano\n",
      "import theano.tensor as T\n",
      "import numpy as np\n",
      "\n",
      "# some symbolic variables\n",
      "a = T.scalar()\n",
      "x = T.col()\n",
      "\n",
      "# Some shared variables - hybrid symbolic/explicit variables\n",
      "W = theano.shared(np.arange(9).reshape((3, 3)), borrow=True)  # borrow=True -> theano takes over memory\n",
      "count = theano.shared(0)\n",
      "\n",
      "print \"a: \", a\n",
      "print \"W: \", W"
     ],
     "language": "python",
     "metadata": {},
     "outputs": []
    },
    {
     "cell_type": "code",
     "collapsed": false,
     "input": [
      "# We can build a symbolic expression from shared and symbolic variables.\n",
      "# Note that math is numpy-like: dot() instead of *, broadcasting of scalars\n",
      "val = T.dot(W, x) + a * count\n",
      "\n",
      "print \"symbolic expression for val: \", val"
     ],
     "language": "python",
     "metadata": {},
     "outputs": []
    },
    {
     "cell_type": "code",
     "collapsed": false,
     "input": [
      "# to evaluate the result, we use theano.function().\n",
      "compute = theano.function(inputs=[a, x],\n",
      "                          outputs=val)\n",
      "\n",
      "print compute(5, np.ones((3, 1)))"
     ],
     "language": "python",
     "metadata": {},
     "outputs": []
    },
    {
     "cell_type": "code",
     "collapsed": false,
     "input": [
      "# We can also create a function that updates shared variables each time it is called.\n",
      "# This is often used in optimization for efficient updates of parameters.\n",
      "update = theano.function(inputs=[a, x],\n",
      "                         outputs=val,\n",
      "                         updates={count: count + 1})\n",
      "\n",
      "print \"first call: \", update(5, np.ones((3, 1))).T\n",
      "print \"next call: \", update(5, np.ones((3, 1))).T"
     ],
     "language": "python",
     "metadata": {},
     "outputs": []
    },
    {
     "cell_type": "code",
     "collapsed": false,
     "input": [
      "# We can get the value of a shared variable with eval() \n",
      "# (for expressions or shared variables) or get_value() (for shared variables)\n",
      "print \"count :\", count.get_value()"
     ],
     "language": "python",
     "metadata": {},
     "outputs": []
    },
    {
     "cell_type": "code",
     "collapsed": false,
     "input": [
      "# Theano variables can be sliced, much like numpy variables\n",
      "print W[:, 1]  # symbolic!\n",
      "print W[:, 1].eval()  # explicit"
     ],
     "language": "python",
     "metadata": {},
     "outputs": []
    }
   ],
   "metadata": {}
  }
 ]
}